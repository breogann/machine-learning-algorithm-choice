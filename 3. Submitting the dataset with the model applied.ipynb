{
 "cells": [
  {
   "cell_type": "markdown",
   "metadata": {},
   "source": [
    "## 3. MODEL APPLICATION TO TEST DATA"
   ]
  },
  {
   "cell_type": "markdown",
   "metadata": {},
   "source": [
    "Now that the model is trained, we do the same with the test data (which lacks the price column) to upload it to kaggle."
   ]
  },
  {
   "cell_type": "code",
   "execution_count": 13,
   "metadata": {},
   "outputs": [],
   "source": [
    "#Data management\n",
    "import pandas as pd"
   ]
  },
  {
   "cell_type": "markdown",
   "metadata": {},
   "source": [
    "#### 3.1.Test data cleaning"
   ]
  },
  {
   "cell_type": "code",
   "execution_count": 10,
   "metadata": {},
   "outputs": [],
   "source": [
    "datatest = pd.read_csv(\"./input/diamonds_test.csv\")\n",
    "datatest.head()\n",
    "\n",
    "datatest = datatest.set_index('id')\n",
    "datatest.drop(['x', 'y', 'z'], axis=1, inplace=True)\n",
    "datatest.head()\n",
    "\n",
    "corte = {\n",
    "    \"Ideal\":5,\n",
    "    \"Premium\":4,\n",
    "    \"Very Good\":3,\n",
    "    \"Good\":2,\n",
    "    \"Fair\":1\n",
    "    \n",
    "}\n",
    "\n",
    "datatest.cut.replace({\n",
    "    \"Ideal\":5,\n",
    "    \"Premium\":4,\n",
    "    \"Very Good\":3,\n",
    "    \"Good\":2,\n",
    "    \"Fair\":1}, inplace=True)\n",
    "\n",
    "claritydic = {\n",
    "    \"IF\":8,\n",
    "    \"VVS1\":7,\n",
    "    \"VVS2\":6,\n",
    "    \"VS1\":5,\n",
    "    \"VS2\":4,\n",
    "    \"SI1\":3,\n",
    "    \"SI2\":2,\n",
    "    \"I1\":1\n",
    "}\n",
    "datatest.clarity=datatest.clarity.map(claritydic)\n",
    "\n",
    "colores = {\n",
    "    \"J\":10,\n",
    "    \"I\":20,\n",
    "    \"H\":30,\n",
    "    \"G\":40,\n",
    "    \"F\":50,\n",
    "    \"E\":60,\n",
    "    \"D\":70,       \n",
    "}\n",
    "\n",
    "datatest.color=datatest.color.map(colores)"
   ]
  },
  {
   "cell_type": "code",
   "execution_count": 12,
   "metadata": {},
   "outputs": [],
   "source": [
    "datatest.to_csv(\"output/clean_data_test.csv\")"
   ]
  },
  {
   "cell_type": "markdown",
   "metadata": {},
   "source": [
    "#### 3.2. Model fitting"
   ]
  },
  {
   "cell_type": "code",
   "execution_count": null,
   "metadata": {},
   "outputs": [],
   "source": [
    "price = clf.predict(datatest) #Using GradientBoostingRegressor"
   ]
  },
  {
   "cell_type": "markdown",
   "metadata": {},
   "source": [
    "#### 3.3. Creation of new dataset"
   ]
  },
  {
   "cell_type": "code",
   "execution_count": null,
   "metadata": {},
   "outputs": [],
   "source": [
    "datatest['price'] = price\n",
    "prueba = datatest[['price']]"
   ]
  },
  {
   "cell_type": "markdown",
   "metadata": {},
   "source": [
    "#### 3.4. Export"
   ]
  },
  {
   "cell_type": "code",
   "execution_count": null,
   "metadata": {},
   "outputs": [],
   "source": [
    "prueba.to_csv(\"output/test.csv\")"
   ]
  },
  {
   "cell_type": "markdown",
   "metadata": {},
   "source": [
    "### In the next notebook, we'll make use of H20 to automatize the scrutiny of different ML models ➡️   [4. Finding the best ML model with H20](https://github.com/breogann/Project-5.Machine-learning-algorithm-selection/blob/master/4.%20Finding%20the%20best%20ML%20model%20with%20H20.ipynb)"
   ]
  }
 ],
 "metadata": {
  "kernelspec": {
   "display_name": "Python 3",
   "language": "python",
   "name": "python3"
  },
  "language_info": {
   "codemirror_mode": {
    "name": "ipython",
    "version": 3
   },
   "file_extension": ".py",
   "mimetype": "text/x-python",
   "name": "python",
   "nbconvert_exporter": "python",
   "pygments_lexer": "ipython3",
   "version": "3.7.6"
  }
 },
 "nbformat": 4,
 "nbformat_minor": 2
}
