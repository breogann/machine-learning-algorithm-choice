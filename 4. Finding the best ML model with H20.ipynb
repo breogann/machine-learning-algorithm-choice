{
 "cells": [
  {
   "cell_type": "markdown",
   "metadata": {},
   "source": [
    "# 4. Finding the best ML model with H2o"
   ]
  },
  {
   "cell_type": "markdown",
   "metadata": {},
   "source": [
    "Earlier we tested the models through trial and error. Now, we do the same using __autoMachineLearning__ from __H2o__."
   ]
  },
  {
   "cell_type": "code",
   "execution_count": 1,
   "metadata": {},
   "outputs": [],
   "source": [
    "#Data management\n",
    "import pandas as pd\n",
    "import joblib\n",
    "\n",
    "#autoMachineLearning\n",
    "import h2o\n",
    "from h2o.automl import H2OAutoML"
   ]
  },
  {
   "cell_type": "code",
   "execution_count": 2,
   "metadata": {},
   "outputs": [],
   "source": [
    "train = pd.read_csv('output/clean_diamonds_train.csv') #Loading TRAIN data"
   ]
  },
  {
   "cell_type": "code",
   "execution_count": 3,
   "metadata": {},
   "outputs": [
    {
     "name": "stdout",
     "output_type": "stream",
     "text": [
      "Checking whether there is an H2O instance running at http://localhost:54321 . connected.\n"
     ]
    },
    {
     "data": {
      "text/html": [
       "<div style=\"overflow:auto\"><table style=\"width:50%\"><tr><td>H2O cluster uptime:</td>\n",
       "<td>12 days 6 hours 22 mins</td></tr>\n",
       "<tr><td>H2O cluster timezone:</td>\n",
       "<td>Europe/Madrid</td></tr>\n",
       "<tr><td>H2O data parsing timezone:</td>\n",
       "<td>UTC</td></tr>\n",
       "<tr><td>H2O cluster version:</td>\n",
       "<td>3.28.0.3</td></tr>\n",
       "<tr><td>H2O cluster version age:</td>\n",
       "<td>2 months and 26 days </td></tr>\n",
       "<tr><td>H2O cluster name:</td>\n",
       "<td>H2O_from_python_fernandocosta_sinund</td></tr>\n",
       "<tr><td>H2O cluster total nodes:</td>\n",
       "<td>1</td></tr>\n",
       "<tr><td>H2O cluster free memory:</td>\n",
       "<td>1.232 Gb</td></tr>\n",
       "<tr><td>H2O cluster total cores:</td>\n",
       "<td>8</td></tr>\n",
       "<tr><td>H2O cluster allowed cores:</td>\n",
       "<td>8</td></tr>\n",
       "<tr><td>H2O cluster status:</td>\n",
       "<td>locked, healthy</td></tr>\n",
       "<tr><td>H2O connection url:</td>\n",
       "<td>http://localhost:54321</td></tr>\n",
       "<tr><td>H2O connection proxy:</td>\n",
       "<td>{'http': None, 'https': None}</td></tr>\n",
       "<tr><td>H2O internal security:</td>\n",
       "<td>False</td></tr>\n",
       "<tr><td>H2O API Extensions:</td>\n",
       "<td>Amazon S3, XGBoost, Algos, AutoML, Core V3, TargetEncoder, Core V4</td></tr>\n",
       "<tr><td>Python version:</td>\n",
       "<td>3.7.6 final</td></tr></table></div>"
      ],
      "text/plain": [
       "--------------------------  ------------------------------------------------------------------\n",
       "H2O cluster uptime:         12 days 6 hours 22 mins\n",
       "H2O cluster timezone:       Europe/Madrid\n",
       "H2O data parsing timezone:  UTC\n",
       "H2O cluster version:        3.28.0.3\n",
       "H2O cluster version age:    2 months and 26 days\n",
       "H2O cluster name:           H2O_from_python_fernandocosta_sinund\n",
       "H2O cluster total nodes:    1\n",
       "H2O cluster free memory:    1.232 Gb\n",
       "H2O cluster total cores:    8\n",
       "H2O cluster allowed cores:  8\n",
       "H2O cluster status:         locked, healthy\n",
       "H2O connection url:         http://localhost:54321\n",
       "H2O connection proxy:       {'http': None, 'https': None}\n",
       "H2O internal security:      False\n",
       "H2O API Extensions:         Amazon S3, XGBoost, Algos, AutoML, Core V3, TargetEncoder, Core V4\n",
       "Python version:             3.7.6 final\n",
       "--------------------------  ------------------------------------------------------------------"
      ]
     },
     "metadata": {},
     "output_type": "display_data"
    }
   ],
   "source": [
    "h2o.init() #To start h2o"
   ]
  },
  {
   "cell_type": "code",
   "execution_count": 4,
   "metadata": {},
   "outputs": [
    {
     "name": "stdout",
     "output_type": "stream",
     "text": [
      "Parse progress: |█████████████████████████████████████████████████████████| 100%\n"
     ]
    }
   ],
   "source": [
    "h2train = h2o.H2OFrame(train) #H20Frame is equal to a Pandas dataframe. We parse so it can be later trained."
   ]
  },
  {
   "cell_type": "code",
   "execution_count": 5,
   "metadata": {},
   "outputs": [
    {
     "name": "stdout",
     "output_type": "stream",
     "text": [
      "X: ['id', 'carat', 'cut', 'color', 'clarity', 'depth', 'table']\n",
      "y: price\n"
     ]
    }
   ],
   "source": [
    "x = list(train.columns)\n",
    "x.remove('price')\n",
    "\n",
    "y = \"price\"\n",
    "\n",
    "print(\"X:\", x)\n",
    "print(\"y:\", y)"
   ]
  },
  {
   "cell_type": "code",
   "execution_count": 6,
   "metadata": {},
   "outputs": [
    {
     "name": "stdout",
     "output_type": "stream",
     "text": [
      "AutoML progress: |████████████████████████████████████████████████████████| 100%\n"
     ]
    }
   ],
   "source": [
    "#TRAINING all the h20 models\n",
    "\n",
    "automl = H2OAutoML(max_models=30, max_runtime_secs=3600, sort_metric='RMSE')\n",
    "automl.train(x=x, y=y, training_frame=h2train)"
   ]
  },
  {
   "cell_type": "code",
   "execution_count": 7,
   "metadata": {
    "scrolled": true
   },
   "outputs": [
    {
     "data": {
      "text/html": [
       "<table>\n",
       "<thead>\n",
       "<tr><th>model_id                                           </th><th style=\"text-align: right;\">   rmse</th><th style=\"text-align: right;\">  mean_residual_deviance</th><th style=\"text-align: right;\">   mse</th><th style=\"text-align: right;\">    mae</th><th style=\"text-align: right;\">      rmsle</th></tr>\n",
       "</thead>\n",
       "<tbody>\n",
       "<tr><td>StackedEnsemble_AllModels_AutoML_20200501_195126   </td><td style=\"text-align: right;\">536.661</td><td style=\"text-align: right;\">                  288005</td><td style=\"text-align: right;\">288005</td><td style=\"text-align: right;\">276.297</td><td style=\"text-align: right;\">  0.103422 </td></tr>\n",
       "<tr><td>StackedEnsemble_BestOfFamily_AutoML_20200501_195126</td><td style=\"text-align: right;\">537.244</td><td style=\"text-align: right;\">                  288631</td><td style=\"text-align: right;\">288631</td><td style=\"text-align: right;\">276.47 </td><td style=\"text-align: right;\">  0.103107 </td></tr>\n",
       "<tr><td>GBM_1_AutoML_20200501_195126                       </td><td style=\"text-align: right;\">545.384</td><td style=\"text-align: right;\">                  297444</td><td style=\"text-align: right;\">297444</td><td style=\"text-align: right;\">286.231</td><td style=\"text-align: right;\">  0.111327 </td></tr>\n",
       "<tr><td>XGBoost_grid__1_AutoML_20200501_195126_model_2     </td><td style=\"text-align: right;\">547.807</td><td style=\"text-align: right;\">                  300093</td><td style=\"text-align: right;\">300093</td><td style=\"text-align: right;\">278.647</td><td style=\"text-align: right;\">  0.0995881</td></tr>\n",
       "<tr><td>GBM_2_AutoML_20200501_195126                       </td><td style=\"text-align: right;\">552.232</td><td style=\"text-align: right;\">                  304960</td><td style=\"text-align: right;\">304960</td><td style=\"text-align: right;\">296.842</td><td style=\"text-align: right;\">  0.127661 </td></tr>\n",
       "<tr><td>XGBoost_3_AutoML_20200501_195126                   </td><td style=\"text-align: right;\">552.58 </td><td style=\"text-align: right;\">                  305345</td><td style=\"text-align: right;\">305345</td><td style=\"text-align: right;\">298.074</td><td style=\"text-align: right;\">nan        </td></tr>\n",
       "<tr><td>GBM_3_AutoML_20200501_195126                       </td><td style=\"text-align: right;\">558.104</td><td style=\"text-align: right;\">                  311480</td><td style=\"text-align: right;\">311480</td><td style=\"text-align: right;\">299.07 </td><td style=\"text-align: right;\">  0.127623 </td></tr>\n",
       "<tr><td>GBM_5_AutoML_20200501_195126                       </td><td style=\"text-align: right;\">561.65 </td><td style=\"text-align: right;\">                  315451</td><td style=\"text-align: right;\">315451</td><td style=\"text-align: right;\">300.645</td><td style=\"text-align: right;\">nan        </td></tr>\n",
       "<tr><td>XGBoost_1_AutoML_20200501_195126                   </td><td style=\"text-align: right;\">565.024</td><td style=\"text-align: right;\">                  319252</td><td style=\"text-align: right;\">319252</td><td style=\"text-align: right;\">310.757</td><td style=\"text-align: right;\">  0.141617 </td></tr>\n",
       "<tr><td>GBM_4_AutoML_20200501_195126                       </td><td style=\"text-align: right;\">571.623</td><td style=\"text-align: right;\">                  326753</td><td style=\"text-align: right;\">326753</td><td style=\"text-align: right;\">313.911</td><td style=\"text-align: right;\">  0.14207  </td></tr>\n",
       "</tbody>\n",
       "</table>"
      ]
     },
     "metadata": {},
     "output_type": "display_data"
    },
    {
     "data": {
      "text/plain": []
     },
     "execution_count": 7,
     "metadata": {},
     "output_type": "execute_result"
    }
   ],
   "source": [
    "#Showing the best performers\n",
    "\n",
    "leader_board = automl.leaderboard\n",
    "leader_board.head()"
   ]
  },
  {
   "cell_type": "markdown",
   "metadata": {},
   "source": [
    "### In the leaderboard ⬆️ there are two types of models: stacked ensamble models & single models. We'll select the best of each category (since the stacked ones cannot be exported)."
   ]
  },
  {
   "cell_type": "markdown",
   "metadata": {},
   "source": [
    "## 4.1. The best model is a stacked ensamble"
   ]
  },
  {
   "cell_type": "code",
   "execution_count": 8,
   "metadata": {
    "scrolled": true
   },
   "outputs": [
    {
     "name": "stdout",
     "output_type": "stream",
     "text": [
      "Parse progress: |█████████████████████████████████████████████████████████| 100%\n"
     ]
    },
    {
     "data": {
      "text/html": [
       "<table>\n",
       "<thead>\n",
       "<tr><th style=\"text-align: right;\">  id</th><th style=\"text-align: right;\">  carat</th><th style=\"text-align: right;\">  cut</th><th style=\"text-align: right;\">  color</th><th style=\"text-align: right;\">  clarity</th><th style=\"text-align: right;\">  depth</th><th style=\"text-align: right;\">  table</th></tr>\n",
       "</thead>\n",
       "<tbody>\n",
       "<tr><td style=\"text-align: right;\">   0</td><td style=\"text-align: right;\">   1.1 </td><td style=\"text-align: right;\">    4</td><td style=\"text-align: right;\">     30</td><td style=\"text-align: right;\">        2</td><td style=\"text-align: right;\">   62.2</td><td style=\"text-align: right;\">     58</td></tr>\n",
       "<tr><td style=\"text-align: right;\">   1</td><td style=\"text-align: right;\">   0.51</td><td style=\"text-align: right;\">    5</td><td style=\"text-align: right;\">     20</td><td style=\"text-align: right;\">        3</td><td style=\"text-align: right;\">   62.5</td><td style=\"text-align: right;\">     57</td></tr>\n",
       "<tr><td style=\"text-align: right;\">   2</td><td style=\"text-align: right;\">   2.03</td><td style=\"text-align: right;\">    4</td><td style=\"text-align: right;\">     40</td><td style=\"text-align: right;\">        3</td><td style=\"text-align: right;\">   61.9</td><td style=\"text-align: right;\">     59</td></tr>\n",
       "<tr><td style=\"text-align: right;\">   3</td><td style=\"text-align: right;\">   1.21</td><td style=\"text-align: right;\">    4</td><td style=\"text-align: right;\">     50</td><td style=\"text-align: right;\">        3</td><td style=\"text-align: right;\">   60  </td><td style=\"text-align: right;\">     60</td></tr>\n",
       "<tr><td style=\"text-align: right;\">   4</td><td style=\"text-align: right;\">   0.55</td><td style=\"text-align: right;\">    5</td><td style=\"text-align: right;\">     50</td><td style=\"text-align: right;\">        3</td><td style=\"text-align: right;\">   61.8</td><td style=\"text-align: right;\">     55</td></tr>\n",
       "<tr><td style=\"text-align: right;\">   5</td><td style=\"text-align: right;\">   0.7 </td><td style=\"text-align: right;\">    4</td><td style=\"text-align: right;\">     30</td><td style=\"text-align: right;\">        3</td><td style=\"text-align: right;\">   61.1</td><td style=\"text-align: right;\">     58</td></tr>\n",
       "<tr><td style=\"text-align: right;\">   6</td><td style=\"text-align: right;\">   0.59</td><td style=\"text-align: right;\">    5</td><td style=\"text-align: right;\">     60</td><td style=\"text-align: right;\">        4</td><td style=\"text-align: right;\">   60.2</td><td style=\"text-align: right;\">     61</td></tr>\n",
       "<tr><td style=\"text-align: right;\">   7</td><td style=\"text-align: right;\">   0.54</td><td style=\"text-align: right;\">    5</td><td style=\"text-align: right;\">     30</td><td style=\"text-align: right;\">        7</td><td style=\"text-align: right;\">   61.9</td><td style=\"text-align: right;\">     54</td></tr>\n",
       "<tr><td style=\"text-align: right;\">   8</td><td style=\"text-align: right;\">   0.9 </td><td style=\"text-align: right;\">    4</td><td style=\"text-align: right;\">     70</td><td style=\"text-align: right;\">        2</td><td style=\"text-align: right;\">   58.1</td><td style=\"text-align: right;\">     60</td></tr>\n",
       "<tr><td style=\"text-align: right;\">   9</td><td style=\"text-align: right;\">   1.33</td><td style=\"text-align: right;\">    5</td><td style=\"text-align: right;\">     50</td><td style=\"text-align: right;\">        8</td><td style=\"text-align: right;\">   60.2</td><td style=\"text-align: right;\">     57</td></tr>\n",
       "</tbody>\n",
       "</table>"
      ]
     },
     "metadata": {},
     "output_type": "display_data"
    },
    {
     "data": {
      "text/plain": []
     },
     "execution_count": 8,
     "metadata": {},
     "output_type": "execute_result"
    }
   ],
   "source": [
    "#Loading the TEST dataset\n",
    "\n",
    "stacked_test = pd.read_csv('output/clean_diamonds_test.csv') #Cleaned Test dataset from Kaggle\n",
    "h2test_stacked = h2o.H2OFrame(stacked_test) #Conversion into a H20 frame to train\n",
    "h2test_stacked.head() #preview"
   ]
  },
  {
   "cell_type": "markdown",
   "metadata": {},
   "source": [
    "Stacked Ensamble models cannot be exported, so we'll just apply it here: "
   ]
  },
  {
   "cell_type": "code",
   "execution_count": 9,
   "metadata": {},
   "outputs": [
    {
     "name": "stdout",
     "output_type": "stream",
     "text": [
      "stackedensemble prediction progress: |████████████████████████████████████| 100%\n"
     ]
    },
    {
     "data": {
      "text/html": [
       "<div>\n",
       "<style scoped>\n",
       "    .dataframe tbody tr th:only-of-type {\n",
       "        vertical-align: middle;\n",
       "    }\n",
       "\n",
       "    .dataframe tbody tr th {\n",
       "        vertical-align: top;\n",
       "    }\n",
       "\n",
       "    .dataframe thead th {\n",
       "        text-align: right;\n",
       "    }\n",
       "</style>\n",
       "<table border=\"1\" class=\"dataframe\">\n",
       "  <thead>\n",
       "    <tr style=\"text-align: right;\">\n",
       "      <th></th>\n",
       "      <th>predict</th>\n",
       "    </tr>\n",
       "  </thead>\n",
       "  <tbody>\n",
       "    <tr>\n",
       "      <th>0</th>\n",
       "      <td>4359.154800</td>\n",
       "    </tr>\n",
       "    <tr>\n",
       "      <th>1</th>\n",
       "      <td>1072.671123</td>\n",
       "    </tr>\n",
       "    <tr>\n",
       "      <th>2</th>\n",
       "      <td>17289.115505</td>\n",
       "    </tr>\n",
       "    <tr>\n",
       "      <th>3</th>\n",
       "      <td>6599.684610</td>\n",
       "    </tr>\n",
       "    <tr>\n",
       "      <th>4</th>\n",
       "      <td>1511.681404</td>\n",
       "    </tr>\n",
       "    <tr>\n",
       "      <th>...</th>\n",
       "      <td>...</td>\n",
       "    </tr>\n",
       "    <tr>\n",
       "      <th>13444</th>\n",
       "      <td>755.702161</td>\n",
       "    </tr>\n",
       "    <tr>\n",
       "      <th>13445</th>\n",
       "      <td>2676.910646</td>\n",
       "    </tr>\n",
       "    <tr>\n",
       "      <th>13446</th>\n",
       "      <td>540.731617</td>\n",
       "    </tr>\n",
       "    <tr>\n",
       "      <th>13447</th>\n",
       "      <td>772.001157</td>\n",
       "    </tr>\n",
       "    <tr>\n",
       "      <th>13448</th>\n",
       "      <td>2069.997687</td>\n",
       "    </tr>\n",
       "  </tbody>\n",
       "</table>\n",
       "<p>13449 rows × 1 columns</p>\n",
       "</div>"
      ],
      "text/plain": [
       "            predict\n",
       "0       4359.154800\n",
       "1       1072.671123\n",
       "2      17289.115505\n",
       "3       6599.684610\n",
       "4       1511.681404\n",
       "...             ...\n",
       "13444    755.702161\n",
       "13445   2676.910646\n",
       "13446    540.731617\n",
       "13447    772.001157\n",
       "13448   2069.997687\n",
       "\n",
       "[13449 rows x 1 columns]"
      ]
     },
     "execution_count": 9,
     "metadata": {},
     "output_type": "execute_result"
    }
   ],
   "source": [
    "predicted_price_h2_stacked = automl.leader.predict(h2test_stacked).as_data_frame() #PREDICTING the PRICES on the TEST dataset\n",
    "predicted_price_h2_stacked #Result"
   ]
  },
  {
   "cell_type": "code",
   "execution_count": 10,
   "metadata": {},
   "outputs": [
    {
     "data": {
      "text/html": [
       "<div>\n",
       "<style scoped>\n",
       "    .dataframe tbody tr th:only-of-type {\n",
       "        vertical-align: middle;\n",
       "    }\n",
       "\n",
       "    .dataframe tbody tr th {\n",
       "        vertical-align: top;\n",
       "    }\n",
       "\n",
       "    .dataframe thead th {\n",
       "        text-align: right;\n",
       "    }\n",
       "</style>\n",
       "<table border=\"1\" class=\"dataframe\">\n",
       "  <thead>\n",
       "    <tr style=\"text-align: right;\">\n",
       "      <th></th>\n",
       "      <th>id</th>\n",
       "      <th>price</th>\n",
       "    </tr>\n",
       "  </thead>\n",
       "  <tbody>\n",
       "    <tr>\n",
       "      <th>0</th>\n",
       "      <td>0</td>\n",
       "      <td>4359.154800</td>\n",
       "    </tr>\n",
       "    <tr>\n",
       "      <th>1</th>\n",
       "      <td>1</td>\n",
       "      <td>1072.671123</td>\n",
       "    </tr>\n",
       "    <tr>\n",
       "      <th>2</th>\n",
       "      <td>2</td>\n",
       "      <td>17289.115505</td>\n",
       "    </tr>\n",
       "    <tr>\n",
       "      <th>3</th>\n",
       "      <td>3</td>\n",
       "      <td>6599.684610</td>\n",
       "    </tr>\n",
       "    <tr>\n",
       "      <th>4</th>\n",
       "      <td>4</td>\n",
       "      <td>1511.681404</td>\n",
       "    </tr>\n",
       "  </tbody>\n",
       "</table>\n",
       "</div>"
      ],
      "text/plain": [
       "   id         price\n",
       "0   0   4359.154800\n",
       "1   1   1072.671123\n",
       "2   2  17289.115505\n",
       "3   3   6599.684610\n",
       "4   4   1511.681404"
      ]
     },
     "execution_count": 10,
     "metadata": {},
     "output_type": "execute_result"
    }
   ],
   "source": [
    "#Adding the PRICE column\n",
    "stacked_test[\"price\"] = predicted_price_h2_stacked \n",
    "\n",
    "#Creating a DF with just the two columns we need\n",
    "stacked_columns = [\"id\",\"price\"]\n",
    "stacked_submission = stacked_test[\"price\"]\n",
    "stacked_test = stacked_test[stacked_columns]\n",
    "stacked_test.head()"
   ]
  },
  {
   "cell_type": "code",
   "execution_count": 11,
   "metadata": {},
   "outputs": [],
   "source": [
    "stacked_test.to_csv(\"output/submissions/predicted_price_h2_stacked.csv\") #Saving the CSV"
   ]
  },
  {
   "cell_type": "markdown",
   "metadata": {},
   "source": [
    "## 4.2. Saving the best single model predicted by h20"
   ]
  },
  {
   "cell_type": "code",
   "execution_count": 12,
   "metadata": {},
   "outputs": [
    {
     "name": "stdout",
     "output_type": "stream",
     "text": [
      "Parse progress: |█████████████████████████████████████████████████████████| 100%\n"
     ]
    },
    {
     "data": {
      "text/html": [
       "<table>\n",
       "<thead>\n",
       "<tr><th style=\"text-align: right;\">  id</th><th style=\"text-align: right;\">  carat</th><th style=\"text-align: right;\">  cut</th><th style=\"text-align: right;\">  color</th><th style=\"text-align: right;\">  clarity</th><th style=\"text-align: right;\">  depth</th><th style=\"text-align: right;\">  table</th></tr>\n",
       "</thead>\n",
       "<tbody>\n",
       "<tr><td style=\"text-align: right;\">   0</td><td style=\"text-align: right;\">   1.1 </td><td style=\"text-align: right;\">    4</td><td style=\"text-align: right;\">     30</td><td style=\"text-align: right;\">        2</td><td style=\"text-align: right;\">   62.2</td><td style=\"text-align: right;\">     58</td></tr>\n",
       "<tr><td style=\"text-align: right;\">   1</td><td style=\"text-align: right;\">   0.51</td><td style=\"text-align: right;\">    5</td><td style=\"text-align: right;\">     20</td><td style=\"text-align: right;\">        3</td><td style=\"text-align: right;\">   62.5</td><td style=\"text-align: right;\">     57</td></tr>\n",
       "<tr><td style=\"text-align: right;\">   2</td><td style=\"text-align: right;\">   2.03</td><td style=\"text-align: right;\">    4</td><td style=\"text-align: right;\">     40</td><td style=\"text-align: right;\">        3</td><td style=\"text-align: right;\">   61.9</td><td style=\"text-align: right;\">     59</td></tr>\n",
       "<tr><td style=\"text-align: right;\">   3</td><td style=\"text-align: right;\">   1.21</td><td style=\"text-align: right;\">    4</td><td style=\"text-align: right;\">     50</td><td style=\"text-align: right;\">        3</td><td style=\"text-align: right;\">   60  </td><td style=\"text-align: right;\">     60</td></tr>\n",
       "<tr><td style=\"text-align: right;\">   4</td><td style=\"text-align: right;\">   0.55</td><td style=\"text-align: right;\">    5</td><td style=\"text-align: right;\">     50</td><td style=\"text-align: right;\">        3</td><td style=\"text-align: right;\">   61.8</td><td style=\"text-align: right;\">     55</td></tr>\n",
       "<tr><td style=\"text-align: right;\">   5</td><td style=\"text-align: right;\">   0.7 </td><td style=\"text-align: right;\">    4</td><td style=\"text-align: right;\">     30</td><td style=\"text-align: right;\">        3</td><td style=\"text-align: right;\">   61.1</td><td style=\"text-align: right;\">     58</td></tr>\n",
       "<tr><td style=\"text-align: right;\">   6</td><td style=\"text-align: right;\">   0.59</td><td style=\"text-align: right;\">    5</td><td style=\"text-align: right;\">     60</td><td style=\"text-align: right;\">        4</td><td style=\"text-align: right;\">   60.2</td><td style=\"text-align: right;\">     61</td></tr>\n",
       "<tr><td style=\"text-align: right;\">   7</td><td style=\"text-align: right;\">   0.54</td><td style=\"text-align: right;\">    5</td><td style=\"text-align: right;\">     30</td><td style=\"text-align: right;\">        7</td><td style=\"text-align: right;\">   61.9</td><td style=\"text-align: right;\">     54</td></tr>\n",
       "<tr><td style=\"text-align: right;\">   8</td><td style=\"text-align: right;\">   0.9 </td><td style=\"text-align: right;\">    4</td><td style=\"text-align: right;\">     70</td><td style=\"text-align: right;\">        2</td><td style=\"text-align: right;\">   58.1</td><td style=\"text-align: right;\">     60</td></tr>\n",
       "<tr><td style=\"text-align: right;\">   9</td><td style=\"text-align: right;\">   1.33</td><td style=\"text-align: right;\">    5</td><td style=\"text-align: right;\">     50</td><td style=\"text-align: right;\">        8</td><td style=\"text-align: right;\">   60.2</td><td style=\"text-align: right;\">     57</td></tr>\n",
       "</tbody>\n",
       "</table>"
      ]
     },
     "metadata": {},
     "output_type": "display_data"
    },
    {
     "data": {
      "text/plain": []
     },
     "execution_count": 12,
     "metadata": {},
     "output_type": "execute_result"
    }
   ],
   "source": [
    "#Loading the TEST dataset\n",
    "\n",
    "single_test = pd.read_csv('output/clean_diamonds_test.csv') #Cleaned Test dataset from Kaggle\n",
    "h2test_single = h2o.H2OFrame(single_test) #Conversion into a H20 frame to train\n",
    "h2test_single.head() #preview"
   ]
  },
  {
   "cell_type": "code",
   "execution_count": 13,
   "metadata": {},
   "outputs": [],
   "source": [
    "single_model = h2o.get_model(automl.leaderboard.as_data_frame()['model_id'][3]) #Saving the best NON-STACKED model"
   ]
  },
  {
   "cell_type": "code",
   "execution_count": 14,
   "metadata": {},
   "outputs": [],
   "source": [
    "joblib.dump(single_model, 'output/trained_models/predicted_price_h2_single.sav') #Saving the model\n",
    "\n",
    "\n",
    "#Another way to save it:\n",
    "model_path = h2o.save_model(model=single_model, path=\"output/trained_models/predicted_price_h2_single_again\", force=True)\n",
    "saved_model = h2o.load_model(model_path)"
   ]
  },
  {
   "cell_type": "code",
   "execution_count": 15,
   "metadata": {},
   "outputs": [
    {
     "name": "stdout",
     "output_type": "stream",
     "text": [
      "xgboost prediction progress: |████████████████████████████████████████████| 100%\n"
     ]
    },
    {
     "data": {
      "text/html": [
       "<div>\n",
       "<style scoped>\n",
       "    .dataframe tbody tr th:only-of-type {\n",
       "        vertical-align: middle;\n",
       "    }\n",
       "\n",
       "    .dataframe tbody tr th {\n",
       "        vertical-align: top;\n",
       "    }\n",
       "\n",
       "    .dataframe thead th {\n",
       "        text-align: right;\n",
       "    }\n",
       "</style>\n",
       "<table border=\"1\" class=\"dataframe\">\n",
       "  <thead>\n",
       "    <tr style=\"text-align: right;\">\n",
       "      <th></th>\n",
       "      <th>predict</th>\n",
       "    </tr>\n",
       "  </thead>\n",
       "  <tbody>\n",
       "    <tr>\n",
       "      <th>0</th>\n",
       "      <td>4473.162109</td>\n",
       "    </tr>\n",
       "    <tr>\n",
       "      <th>1</th>\n",
       "      <td>1058.432739</td>\n",
       "    </tr>\n",
       "    <tr>\n",
       "      <th>2</th>\n",
       "      <td>17640.648438</td>\n",
       "    </tr>\n",
       "    <tr>\n",
       "      <th>3</th>\n",
       "      <td>6226.746582</td>\n",
       "    </tr>\n",
       "    <tr>\n",
       "      <th>4</th>\n",
       "      <td>1470.134399</td>\n",
       "    </tr>\n",
       "    <tr>\n",
       "      <th>...</th>\n",
       "      <td>...</td>\n",
       "    </tr>\n",
       "    <tr>\n",
       "      <th>13444</th>\n",
       "      <td>752.353394</td>\n",
       "    </tr>\n",
       "    <tr>\n",
       "      <th>13445</th>\n",
       "      <td>2706.625488</td>\n",
       "    </tr>\n",
       "    <tr>\n",
       "      <th>13446</th>\n",
       "      <td>520.586365</td>\n",
       "    </tr>\n",
       "    <tr>\n",
       "      <th>13447</th>\n",
       "      <td>753.365112</td>\n",
       "    </tr>\n",
       "    <tr>\n",
       "      <th>13448</th>\n",
       "      <td>2046.789673</td>\n",
       "    </tr>\n",
       "  </tbody>\n",
       "</table>\n",
       "<p>13449 rows × 1 columns</p>\n",
       "</div>"
      ],
      "text/plain": [
       "            predict\n",
       "0       4473.162109\n",
       "1       1058.432739\n",
       "2      17640.648438\n",
       "3       6226.746582\n",
       "4       1470.134399\n",
       "...             ...\n",
       "13444    752.353394\n",
       "13445   2706.625488\n",
       "13446    520.586365\n",
       "13447    753.365112\n",
       "13448   2046.789673\n",
       "\n",
       "[13449 rows x 1 columns]"
      ]
     },
     "execution_count": 15,
     "metadata": {},
     "output_type": "execute_result"
    }
   ],
   "source": [
    "predicted_price_h2_single = single_model.predict(h2test_single).as_data_frame() #PREDICTING the PRICES on the TEST dataset\n",
    "predicted_price_h2_single #preview"
   ]
  },
  {
   "cell_type": "code",
   "execution_count": 16,
   "metadata": {},
   "outputs": [
    {
     "data": {
      "text/html": [
       "<div>\n",
       "<style scoped>\n",
       "    .dataframe tbody tr th:only-of-type {\n",
       "        vertical-align: middle;\n",
       "    }\n",
       "\n",
       "    .dataframe tbody tr th {\n",
       "        vertical-align: top;\n",
       "    }\n",
       "\n",
       "    .dataframe thead th {\n",
       "        text-align: right;\n",
       "    }\n",
       "</style>\n",
       "<table border=\"1\" class=\"dataframe\">\n",
       "  <thead>\n",
       "    <tr style=\"text-align: right;\">\n",
       "      <th></th>\n",
       "      <th>id</th>\n",
       "      <th>price</th>\n",
       "    </tr>\n",
       "  </thead>\n",
       "  <tbody>\n",
       "    <tr>\n",
       "      <th>0</th>\n",
       "      <td>0</td>\n",
       "      <td>4473.162109</td>\n",
       "    </tr>\n",
       "    <tr>\n",
       "      <th>1</th>\n",
       "      <td>1</td>\n",
       "      <td>1058.432739</td>\n",
       "    </tr>\n",
       "    <tr>\n",
       "      <th>2</th>\n",
       "      <td>2</td>\n",
       "      <td>17640.648438</td>\n",
       "    </tr>\n",
       "    <tr>\n",
       "      <th>3</th>\n",
       "      <td>3</td>\n",
       "      <td>6226.746582</td>\n",
       "    </tr>\n",
       "    <tr>\n",
       "      <th>4</th>\n",
       "      <td>4</td>\n",
       "      <td>1470.134399</td>\n",
       "    </tr>\n",
       "  </tbody>\n",
       "</table>\n",
       "</div>"
      ],
      "text/plain": [
       "   id         price\n",
       "0   0   4473.162109\n",
       "1   1   1058.432739\n",
       "2   2  17640.648438\n",
       "3   3   6226.746582\n",
       "4   4   1470.134399"
      ]
     },
     "execution_count": 16,
     "metadata": {},
     "output_type": "execute_result"
    }
   ],
   "source": [
    "#Adding the PRICE column\n",
    "single_test[\"price\"] = predicted_price_h2_single\n",
    "\n",
    "#Creating a DF with just the two columns we need\n",
    "single_columns = [\"id\",\"price\"]\n",
    "single_submission = single_test[\"price\"]\n",
    "single_test = single_test[single_columns]\n",
    "single_test.head()"
   ]
  },
  {
   "cell_type": "code",
   "execution_count": 17,
   "metadata": {},
   "outputs": [],
   "source": [
    "predicted_price_h2_single.to_csv(\"output/submissions/predicted_price_h2_single.csv\") #Saving the CSV"
   ]
  },
  {
   "cell_type": "markdown",
   "metadata": {},
   "source": [
    "## Now we have two different files to upload to Kaggle to see which one did better.\n",
    "\n",
    "\n",
    "# We're done 🚀\n"
   ]
  }
 ],
 "metadata": {
  "kernelspec": {
   "display_name": "Python 3",
   "language": "python",
   "name": "python3"
  },
  "language_info": {
   "codemirror_mode": {
    "name": "ipython",
    "version": 3
   },
   "file_extension": ".py",
   "mimetype": "text/x-python",
   "name": "python",
   "nbconvert_exporter": "python",
   "pygments_lexer": "ipython3",
   "version": "3.7.6"
  }
 },
 "nbformat": 4,
 "nbformat_minor": 2
}
