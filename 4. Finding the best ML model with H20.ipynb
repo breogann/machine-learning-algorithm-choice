{
 "cells": [
  {
   "cell_type": "markdown",
   "metadata": {},
   "source": [
    "# 4. Finding the best ML model with H2o"
   ]
  },
  {
   "cell_type": "markdown",
   "metadata": {},
   "source": [
    "Earlier we tested the models through trial and error. Now, we do the same using __autoMachineLearning__ from __H2o__."
   ]
  },
  {
   "cell_type": "code",
   "execution_count": 1,
   "metadata": {},
   "outputs": [],
   "source": [
    "#Data management\n",
    "import pandas as pd\n",
    "\n",
    "#autoMachineLearning\n",
    "import h2o\n",
    "from h2o.automl import H2OAutoML"
   ]
  },
  {
   "cell_type": "code",
   "execution_count": 2,
   "metadata": {},
   "outputs": [],
   "source": [
    "train = pd.read_csv('output/clean_data_train.csv') #Loading data\n",
    "test = pd.read_csv('output/clean_data_test.csv')"
   ]
  },
  {
   "cell_type": "code",
   "execution_count": 3,
   "metadata": {},
   "outputs": [
    {
     "name": "stdout",
     "output_type": "stream",
     "text": [
      "Checking whether there is an H2O instance running at http://localhost:54321 . connected.\n"
     ]
    },
    {
     "data": {
      "text/html": [
       "<div style=\"overflow:auto\"><table style=\"width:50%\"><tr><td>H2O cluster uptime:</td>\n",
       "<td>4 days 4 hours 8 mins</td></tr>\n",
       "<tr><td>H2O cluster timezone:</td>\n",
       "<td>Europe/Madrid</td></tr>\n",
       "<tr><td>H2O data parsing timezone:</td>\n",
       "<td>UTC</td></tr>\n",
       "<tr><td>H2O cluster version:</td>\n",
       "<td>3.28.0.3</td></tr>\n",
       "<tr><td>H2O cluster version age:</td>\n",
       "<td>2 months and 12 days </td></tr>\n",
       "<tr><td>H2O cluster name:</td>\n",
       "<td>H2O_from_python_fernandocosta_p832au</td></tr>\n",
       "<tr><td>H2O cluster total nodes:</td>\n",
       "<td>1</td></tr>\n",
       "<tr><td>H2O cluster free memory:</td>\n",
       "<td>1.037 Gb</td></tr>\n",
       "<tr><td>H2O cluster total cores:</td>\n",
       "<td>8</td></tr>\n",
       "<tr><td>H2O cluster allowed cores:</td>\n",
       "<td>8</td></tr>\n",
       "<tr><td>H2O cluster status:</td>\n",
       "<td>locked, healthy</td></tr>\n",
       "<tr><td>H2O connection url:</td>\n",
       "<td>http://localhost:54321</td></tr>\n",
       "<tr><td>H2O connection proxy:</td>\n",
       "<td>{'http': None, 'https': None}</td></tr>\n",
       "<tr><td>H2O internal security:</td>\n",
       "<td>False</td></tr>\n",
       "<tr><td>H2O API Extensions:</td>\n",
       "<td>Amazon S3, XGBoost, Algos, AutoML, Core V3, TargetEncoder, Core V4</td></tr>\n",
       "<tr><td>Python version:</td>\n",
       "<td>3.7.6 final</td></tr></table></div>"
      ],
      "text/plain": [
       "--------------------------  ------------------------------------------------------------------\n",
       "H2O cluster uptime:         4 days 4 hours 8 mins\n",
       "H2O cluster timezone:       Europe/Madrid\n",
       "H2O data parsing timezone:  UTC\n",
       "H2O cluster version:        3.28.0.3\n",
       "H2O cluster version age:    2 months and 12 days\n",
       "H2O cluster name:           H2O_from_python_fernandocosta_p832au\n",
       "H2O cluster total nodes:    1\n",
       "H2O cluster free memory:    1.037 Gb\n",
       "H2O cluster total cores:    8\n",
       "H2O cluster allowed cores:  8\n",
       "H2O cluster status:         locked, healthy\n",
       "H2O connection url:         http://localhost:54321\n",
       "H2O connection proxy:       {'http': None, 'https': None}\n",
       "H2O internal security:      False\n",
       "H2O API Extensions:         Amazon S3, XGBoost, Algos, AutoML, Core V3, TargetEncoder, Core V4\n",
       "Python version:             3.7.6 final\n",
       "--------------------------  ------------------------------------------------------------------"
      ]
     },
     "metadata": {},
     "output_type": "display_data"
    }
   ],
   "source": [
    "h2o.init() #To start h2o"
   ]
  },
  {
   "cell_type": "code",
   "execution_count": 4,
   "metadata": {},
   "outputs": [
    {
     "name": "stdout",
     "output_type": "stream",
     "text": [
      "Parse progress: |█████████████████████████████████████████████████████████| 100%\n",
      "Parse progress: |█████████████████████████████████████████████████████████| 100%\n"
     ]
    }
   ],
   "source": [
    "h2train = h2o.H2OFrame(train)\n",
    "h2test = h2o.H2OFrame(test)"
   ]
  },
  {
   "cell_type": "code",
   "execution_count": 5,
   "metadata": {},
   "outputs": [],
   "source": [
    "x = list(train.columns)\n",
    "x.remove('price')\n",
    "y = \"price\""
   ]
  },
  {
   "cell_type": "code",
   "execution_count": 7,
   "metadata": {},
   "outputs": [
    {
     "name": "stdout",
     "output_type": "stream",
     "text": [
      "AutoML progress: |████████████████████████████████████████████████████████| 100%\n"
     ]
    }
   ],
   "source": [
    "automl = H2OAutoML(max_models=30, max_runtime_secs=36000, sort_metric='RMSE')\n",
    "automl.train(x=x, y=y, training_frame=h2train)"
   ]
  },
  {
   "cell_type": "code",
   "execution_count": 21,
   "metadata": {},
   "outputs": [
    {
     "data": {
      "text/html": [
       "<table>\n",
       "<thead>\n",
       "<tr><th>model_id                                           </th><th style=\"text-align: right;\">   rmse</th><th style=\"text-align: right;\">  mean_residual_deviance</th><th style=\"text-align: right;\">   mse</th><th style=\"text-align: right;\">    mae</th><th style=\"text-align: right;\">      rmsle</th></tr>\n",
       "</thead>\n",
       "<tbody>\n",
       "<tr><td>StackedEnsemble_AllModels_AutoML_20200413_141920   </td><td style=\"text-align: right;\">534.204</td><td style=\"text-align: right;\">                  285374</td><td style=\"text-align: right;\">285374</td><td style=\"text-align: right;\">273.045</td><td style=\"text-align: right;\">  0.0987742</td></tr>\n",
       "<tr><td>StackedEnsemble_BestOfFamily_AutoML_20200413_141920</td><td style=\"text-align: right;\">535.675</td><td style=\"text-align: right;\">                  286948</td><td style=\"text-align: right;\">286948</td><td style=\"text-align: right;\">274.712</td><td style=\"text-align: right;\">  0.100833 </td></tr>\n",
       "<tr><td>GBM_grid__1_AutoML_20200413_141920_model_3         </td><td style=\"text-align: right;\">538.378</td><td style=\"text-align: right;\">                  289851</td><td style=\"text-align: right;\">289851</td><td style=\"text-align: right;\">276.692</td><td style=\"text-align: right;\">  0.100176 </td></tr>\n",
       "<tr><td>GBM_grid__1_AutoML_20200413_141920_model_1         </td><td style=\"text-align: right;\">546.694</td><td style=\"text-align: right;\">                  298874</td><td style=\"text-align: right;\">298874</td><td style=\"text-align: right;\">280.474</td><td style=\"text-align: right;\">  0.10022  </td></tr>\n",
       "<tr><td>XGBoost_3_AutoML_20200413_141920                   </td><td style=\"text-align: right;\">550.41 </td><td style=\"text-align: right;\">                  302951</td><td style=\"text-align: right;\">302951</td><td style=\"text-align: right;\">292.658</td><td style=\"text-align: right;\">nan        </td></tr>\n",
       "<tr><td>GBM_2_AutoML_20200413_141920                       </td><td style=\"text-align: right;\">551.758</td><td style=\"text-align: right;\">                  304437</td><td style=\"text-align: right;\">304437</td><td style=\"text-align: right;\">297.212</td><td style=\"text-align: right;\">  0.127649 </td></tr>\n",
       "<tr><td>XGBoost_grid__1_AutoML_20200413_141920_model_3     </td><td style=\"text-align: right;\">552.386</td><td style=\"text-align: right;\">                  305130</td><td style=\"text-align: right;\">305130</td><td style=\"text-align: right;\">294.758</td><td style=\"text-align: right;\">  0.122901 </td></tr>\n",
       "<tr><td>XGBoost_grid__1_AutoML_20200413_141920_model_1     </td><td style=\"text-align: right;\">554.024</td><td style=\"text-align: right;\">                  306943</td><td style=\"text-align: right;\">306943</td><td style=\"text-align: right;\">282.061</td><td style=\"text-align: right;\">  0.101442 </td></tr>\n",
       "<tr><td>GBM_3_AutoML_20200413_141920                       </td><td style=\"text-align: right;\">554.294</td><td style=\"text-align: right;\">                  307242</td><td style=\"text-align: right;\">307242</td><td style=\"text-align: right;\">301.659</td><td style=\"text-align: right;\">  0.134587 </td></tr>\n",
       "<tr><td>GBM_1_AutoML_20200413_141920                       </td><td style=\"text-align: right;\">554.564</td><td style=\"text-align: right;\">                  307541</td><td style=\"text-align: right;\">307541</td><td style=\"text-align: right;\">304.016</td><td style=\"text-align: right;\">nan        </td></tr>\n",
       "</tbody>\n",
       "</table>"
      ]
     },
     "metadata": {},
     "output_type": "display_data"
    },
    {
     "data": {
      "text/plain": []
     },
     "execution_count": 21,
     "metadata": {},
     "output_type": "execute_result"
    }
   ],
   "source": [
    "leader_board = automl.leaderboard\n",
    "leader_board.head()"
   ]
  },
  {
   "cell_type": "markdown",
   "metadata": {},
   "source": [
    "### The best model is: Gradient Boost Regressor. Let's now use it on the test data! ➡️   [ 5. Running the best ML model for this dataset](https://github.com/breogann/Project-5.Machine-learning-algorithm-selection/blob/master/5.%20Running%20the%20best%20ML%20model%20for%20this%20dataset.ipynb)"
   ]
  }
 ],
 "metadata": {
  "kernelspec": {
   "display_name": "Python 3",
   "language": "python",
   "name": "python3"
  },
  "language_info": {
   "codemirror_mode": {
    "name": "ipython",
    "version": 3
   },
   "file_extension": ".py",
   "mimetype": "text/x-python",
   "name": "python",
   "nbconvert_exporter": "python",
   "pygments_lexer": "ipython3",
   "version": "3.7.6"
  }
 },
 "nbformat": 4,
 "nbformat_minor": 2
}
